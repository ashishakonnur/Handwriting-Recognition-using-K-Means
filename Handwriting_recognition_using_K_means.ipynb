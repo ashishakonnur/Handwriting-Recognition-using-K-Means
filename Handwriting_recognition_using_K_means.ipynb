{
  "nbformat": 4,
  "nbformat_minor": 0,
  "metadata": {
    "colab": {
      "name": "Handwriting-recognition-using-K-means.ipynb",
      "provenance": []
    },
    "kernelspec": {
      "name": "python3",
      "display_name": "Python 3"
    },
    "language_info": {
      "name": "python"
    }
  },
  "cells": [
    {
      "cell_type": "markdown",
      "metadata": {
        "id": "Fr23g3LIVBoQ"
      },
      "source": [
        "## Handwriting Recognition using K-Means\n",
        "The U.S. Postal Service has been using machine learning and scanning technologies since 1999. Because its postal offices have to look at roughly half a billion pieces of mail every day, they have done extensive research and developed very efficient algorithms for reading and understanding addresses. And not only the post office:\n",
        "\n",
        "- ATMs can recognize handwritten bank checks\n",
        "- Evernote can recognize handwritten task lists\n",
        "- Expensify can recognize handwritten receipts\n",
        "\n",
        "But how do they do it?\n",
        "\n",
        "In this project, you will be using K-means clustering (the algorithm behind this magic) and scikit-learn to cluster images of handwritten digits."
      ]
    },
    {
      "cell_type": "code",
      "metadata": {
        "id": "ty3NaMuVQJkT"
      },
      "source": [
        "import numpy as np\n",
        "from matplotlib import pyplot as plt\n",
        "from sklearn import datasets\n",
        "from sklearn.cluster import KMeans\n",
        "from mlxtend.data import loadlocal_mnist\n",
        "import platform"
      ],
      "execution_count": null,
      "outputs": []
    },
    {
      "cell_type": "markdown",
      "metadata": {
        "id": "Jbcczhm3VPcp"
      },
      "source": [
        "## Getting Started with the Digits Dataset:"
      ]
    },
    {
      "cell_type": "markdown",
      "metadata": {
        "id": "QlpJGPtPVij4"
      },
      "source": [
        "When first starting out with a dataset, it’s always a good idea to go through the data description and see what you can already learn."
      ]
    },
    {
      "cell_type": "code",
      "metadata": {
        "colab": {
          "base_uri": "https://localhost:8080/"
        },
        "id": "bfSbYyAlVU_2",
        "outputId": "b60b95d9-0492-4c9b-a1c0-2a7f253aeae6"
      },
      "source": [
        "digits = datasets.load_digits()\n",
        "\n",
        "print(digits.DESCR)"
      ],
      "execution_count": null,
      "outputs": [
        {
          "output_type": "stream",
          "name": "stdout",
          "text": [
            ".. _digits_dataset:\n",
            "\n",
            "Optical recognition of handwritten digits dataset\n",
            "--------------------------------------------------\n",
            "\n",
            "**Data Set Characteristics:**\n",
            "\n",
            "    :Number of Instances: 5620\n",
            "    :Number of Attributes: 64\n",
            "    :Attribute Information: 8x8 image of integer pixels in the range 0..16.\n",
            "    :Missing Attribute Values: None\n",
            "    :Creator: E. Alpaydin (alpaydin '@' boun.edu.tr)\n",
            "    :Date: July; 1998\n",
            "\n",
            "This is a copy of the test set of the UCI ML hand-written digits datasets\n",
            "https://archive.ics.uci.edu/ml/datasets/Optical+Recognition+of+Handwritten+Digits\n",
            "\n",
            "The data set contains images of hand-written digits: 10 classes where\n",
            "each class refers to a digit.\n",
            "\n",
            "Preprocessing programs made available by NIST were used to extract\n",
            "normalized bitmaps of handwritten digits from a preprinted form. From a\n",
            "total of 43 people, 30 contributed to the training set and different 13\n",
            "to the test set. 32x32 bitmaps are divided into nonoverlapping blocks of\n",
            "4x4 and the number of on pixels are counted in each block. This generates\n",
            "an input matrix of 8x8 where each element is an integer in the range\n",
            "0..16. This reduces dimensionality and gives invariance to small\n",
            "distortions.\n",
            "\n",
            "For info on NIST preprocessing routines, see M. D. Garris, J. L. Blue, G.\n",
            "T. Candela, D. L. Dimmick, J. Geist, P. J. Grother, S. A. Janet, and C.\n",
            "L. Wilson, NIST Form-Based Handprint Recognition System, NISTIR 5469,\n",
            "1994.\n",
            "\n",
            ".. topic:: References\n",
            "\n",
            "  - C. Kaynak (1995) Methods of Combining Multiple Classifiers and Their\n",
            "    Applications to Handwritten Digit Recognition, MSc Thesis, Institute of\n",
            "    Graduate Studies in Science and Engineering, Bogazici University.\n",
            "  - E. Alpaydin, C. Kaynak (1998) Cascading Classifiers, Kybernetika.\n",
            "  - Ken Tang and Ponnuthurai N. Suganthan and Xi Yao and A. Kai Qin.\n",
            "    Linear dimensionalityreduction using relevance weighted LDA. School of\n",
            "    Electrical and Electronic Engineering Nanyang Technological University.\n",
            "    2005.\n",
            "  - Claudio Gentile. A New Approximate Maximal Margin Classification\n",
            "    Algorithm. NIPS. 2000.\n"
          ]
        }
      ]
    },
    {
      "cell_type": "code",
      "metadata": {
        "colab": {
          "base_uri": "https://localhost:8080/"
        },
        "id": "RpxOmVvwVp_k",
        "outputId": "1691d6da-9efa-4115-8e75-5f4e73c2607c"
      },
      "source": [
        "# Let’s see what the data looks like!\n",
        "print(digits.data)"
      ],
      "execution_count": null,
      "outputs": [
        {
          "output_type": "stream",
          "name": "stdout",
          "text": [
            "[[ 0.  0.  5. ...  0.  0.  0.]\n",
            " [ 0.  0.  0. ... 10.  0.  0.]\n",
            " [ 0.  0.  0. ... 16.  9.  0.]\n",
            " ...\n",
            " [ 0.  0.  1. ...  6.  0.  0.]\n",
            " [ 0.  0.  2. ... 12.  0.  0.]\n",
            " [ 0.  0. 10. ... 12.  1.  0.]]\n"
          ]
        }
      ]
    },
    {
      "cell_type": "code",
      "metadata": {
        "colab": {
          "base_uri": "https://localhost:8080/"
        },
        "id": "7OxxOYSjVwrS",
        "outputId": "283a08ad-a934-4b9d-cc95-6f88e471008c"
      },
      "source": [
        "# Next, print out the target values in\n",
        "print(digits.target)"
      ],
      "execution_count": null,
      "outputs": [
        {
          "output_type": "stream",
          "name": "stdout",
          "text": [
            "[0 1 2 ... 8 9 8]\n"
          ]
        }
      ]
    },
    {
      "cell_type": "code",
      "metadata": {
        "colab": {
          "base_uri": "https://localhost:8080/",
          "height": 292
        },
        "id": "yhpNwxAIQjn3",
        "outputId": "57b7d819-4721-4f56-a278-3a3c84540567"
      },
      "source": [
        "# Let’s visualize the image at index 100:\n",
        "plt.gray() \n",
        "\n",
        "plt.matshow(digits.images[100])\n",
        "\n",
        "plt.show()"
      ],
      "execution_count": null,
      "outputs": [
        {
          "output_type": "display_data",
          "data": {
            "text/plain": [
              "<Figure size 432x288 with 0 Axes>"
            ]
          },
          "metadata": {}
        },
        {
          "output_type": "display_data",
          "data": {
            "image/png": "[encoded data removed]",
            "text/plain": [
              "<Figure size 288x288 with 1 Axes>"
            ]
          },
          "metadata": {
            "needs_background": "light"
          }
        }
      ]
    },
    {
      "cell_type": "markdown",
      "metadata": {
        "id": "qP37XvzFWEjS"
      },
      "source": [
        "Is it a 4? Let’s print out the target label at index 100 to find out!\n",
        "\n",
        "\n",
        "\n",
        "## To take a look at 64 sample images. Copy and paste the code below:"
      ]
    },
    {
      "cell_type": "code",
      "metadata": {
        "colab": {
          "base_uri": "https://localhost:8080/",
          "height": 465
        },
        "id": "6EacHHwtQnGW",
        "outputId": "a622ab05-f24c-4ba4-ab9a-39533d993902"
      },
      "source": [
        "# Figure size (width, height)\n",
        "fig = plt.figure(figsize=(6, 6))\n",
        "\n",
        "# Adjust the subplots \n",
        "fig.subplots_adjust(left=0, right=1, bottom=0, top=1, hspace=0.05, wspace=0.05)\n",
        "\n",
        "# For each of the 64 images\n",
        "for i in range(64):\n",
        "\n",
        "    # Initialize the subplots: add a subplot in the grid of 8 by 8, at the i+1-th position\n",
        "    ax = fig.add_subplot(8, 8, i+1, xticks=[], yticks=[])\n",
        "\n",
        "    # Display an image at the i-th position\n",
        "    ax.imshow(digits.images[i], cmap=plt.cm.binary, interpolation='nearest')\n",
        "\n",
        "    # Label the image with the target value\n",
        "    ax.text(0, 7, str(digits.target[i]))\n",
        "\n",
        "plt.show()"
      ],
      "execution_count": null,
      "outputs": [
        {
          "output_type": "display_data",
          "data": {
            "image/png": "[encoded data removed]",
            "text/plain": [
              "<Figure size 432x432 with 64 Axes>"
            ]
          },
          "metadata": {}
        }
      ]
    },
    {
      "cell_type": "markdown",
      "metadata": {
        "id": "M3TZWZwSUkhF"
      },
      "source": [
        "## K-Means Clustering:"
      ]
    },
    {
      "cell_type": "code",
      "metadata": {
        "colab": {
          "base_uri": "https://localhost:8080/"
        },
        "id": "Qqk_A-34QqbC",
        "outputId": "decb52ad-ad86-4041-85aa-625ecd915728"
      },
      "source": [
        "# Now we understand what we are working with. Let’s cluster the 1797 different digit images into groups.\n",
        "\n",
        "from sklearn.cluster import KMeans\n",
        "# Because there are 10 digits (0, 1, 2, 3, 4, 5, 6, 7, 8, and 9), there should be 10 clusters.\n",
        "model = KMeans(n_clusters=10, random_state = 42) # So k, the number of clusters, is 10:\n",
        "# The random_state will ensure that every time you run your code, the model is built in the same way. This can be any number. We used random_state = 42.\n",
        "model.fit(digits.data) # Use the .fit() method to fit the digits.data to the model."
      ],
      "execution_count": null,
      "outputs": [
        {
          "output_type": "execute_result",
          "data": {
            "text/plain": [
              "KMeans(algorithm='auto', copy_x=True, init='k-means++', max_iter=300,\n",
              "       n_clusters=10, n_init=10, n_jobs=None, precompute_distances='auto',\n",
              "       random_state=42, tol=0.0001, verbose=0)"
            ]
          },
          "metadata": {},
          "execution_count": 43
        }
      ]
    },
    {
      "cell_type": "markdown",
      "metadata": {
        "id": "bKbeB9duUd9N"
      },
      "source": [
        "\n",
        "## Visualizing after K-Means:"
      ]
    },
    {
      "cell_type": "markdown",
      "metadata": {
        "id": "ownOSWWwXMSN"
      },
      "source": [
        "\n",
        "Let’s visualize all the centroids! Because data samples live in a 64-dimensional space, the centroids have values so they can be images!"
      ]
    },
    {
      "cell_type": "code",
      "metadata": {
        "colab": {
          "base_uri": "https://localhost:8080/",
          "height": 233
        },
        "id": "Zlpr4NS9QweA",
        "outputId": "893cf190-c01c-438f-fabd-a4a03f97c56b"
      },
      "source": [
        "fig = plt.figure(figsize=(8, 3))\n",
        " \n",
        "fig.suptitle('Cluser Center Images', fontsize=14, fontweight='bold')\n",
        "\n",
        "\n",
        "#  Scikit-learn sometimes calls centroids “cluster centers”.\n",
        "for i in range(10):\n",
        " \n",
        "  # Initialize subplots in a grid of 2X5, at i+1th position\n",
        "  ax = fig.add_subplot(2, 5, 1 + i)\n",
        " \n",
        "  # Display images\n",
        "  ax.imshow(model.cluster_centers_[i].reshape((8, 8)), cmap=plt.cm.binary)\n",
        "# The cluster centers should be a list with 64 values (0-16). Here, we are making each of the cluster centers into an 8x8 2D array.\n",
        "\n",
        "plt.show()"
      ],
      "execution_count": null,
      "outputs": [
        {
          "output_type": "display_data",
          "data": {
            "image/png": "[encoded data removed]",
            "text/plain": [
              "<Figure size 576x216 with 10 Axes>"
            ]
          },
          "metadata": {
            "needs_background": "light"
          }
        }
      ]
    },
    {
      "cell_type": "markdown",
      "metadata": {
        "id": "hCtSh-GvUSCp"
      },
      "source": [
        "## Testing Your Model:\n",
        "After going to test.html (http://localhost:8000/test.html) in codecademy, I used my mouse to write a digit in each of the boxes ie 1137"
      ]
    },
    {
      "cell_type": "code",
      "metadata": {
        "id": "m9zbF8vLRqAF"
      },
      "source": [
        "new_samples = np.array([[0.00,0.00,0.00,2.67,1.53,0.00,0.00,0.00,0.00,0.00,0.00,6.86,4.57,0.00,0.00,0.00,0.00,0.00,0.00,6.86,4.57,0.00,0.00,0.00,0.00,0.00,0.00,6.86,4.58,0.00,0.00,0.00,0.00,0.00,0.00,6.86,4.58,0.00,0.00,0.00,0.00,0.00,0.00,6.86,4.58,0.00,0.00,0.00,0.00,0.00,0.00,6.40,4.11,0.00,0.00,0.00,0.00,0.00,0.00,0.38,0.15,0.00,0.00,0.00],\n",
        "[0.00,0.00,0.00,2.29,1.91,0.00,0.00,0.00,0.00,0.00,0.00,6.10,5.33,0.00,0.00,0.00,0.00,0.00,0.00,6.09,5.33,0.00,0.00,0.00,0.00,0.00,0.00,6.09,5.41,0.00,0.00,0.00,0.00,0.00,0.00,5.41,6.10,0.00,0.00,0.00,0.00,0.00,0.00,4.80,6.94,0.00,0.00,0.00,0.00,0.00,0.00,2.90,6.10,0.00,0.00,0.00,0.00,0.00,0.00,0.00,0.00,0.00,0.00,0.00],\n",
        "[0.00,1.14,4.88,6.56,6.87,4.66,0.15,0.00,0.00,2.67,6.71,5.27,4.88,7.63,3.44,0.00,0.00,0.00,0.46,2.98,5.26,7.63,4.50,0.00,0.00,0.00,3.28,7.63,7.63,7.40,2.52,0.00,0.00,0.00,0.08,1.83,4.20,7.09,7.10,0.54,0.00,0.00,0.00,0.00,0.23,3.14,7.63,3.43,1.14,6.02,6.10,6.33,7.63,7.62,7.40,2.44,0.68,4.50,4.58,4.58,3.89,2.29,0.53,0.00],\n",
        "[0.00,2.98,3.21,1.15,0.76,0.77,0.46,0.00,0.00,6.11,7.63,7.63,7.63,7.64,7.17,0.00,0.00,0.00,0.99,2.29,2.37,7.25,6.10,0.00,0.00,0.00,0.00,0.00,2.67,7.63,2.37,0.00,0.00,0.00,0.00,0.61,6.71,6.41,0.08,0.00,0.00,0.00,0.00,4.65,7.47,1.45,0.00,0.00,0.00,0.00,1.68,7.55,4.43,0.00,0.00,0.00,0.00,0.00,5.95,7.33,0.39,0.00,0.00,0.00]\n",
        "])"
      ],
      "execution_count": null,
      "outputs": []
    },
    {
      "cell_type": "markdown",
      "metadata": {
        "id": "sf1hgf3dZYAj"
      },
      "source": [
        "But wait, because this is a clustering algorithm, we don’t know which label is which.\n",
        "\n",
        "By looking at the cluster centers, let’s map out each of the labels with the digits we think it represents:"
      ]
    },
    {
      "cell_type": "code",
      "metadata": {
        "colab": {
          "base_uri": "https://localhost:8080/"
        },
        "id": "IDv6bi3lTaie",
        "outputId": "30cb8305-7756-4ac2-b369-ff9a5ca09f08"
      },
      "source": [
        "new_labels = model.predict(new_samples) # loop through labels to print the predicted\n",
        "print(new_labels) \n",
        "\n",
        "for i in range(len(new_labels)):\n",
        "  if new_labels[i] == 0:\n",
        "    print(0, end='')\n",
        "  elif new_labels[i] == 1:\n",
        "    print(9, end='')\n",
        "  elif new_labels[i] == 2:\n",
        "    print(2, end='')\n",
        "  elif new_labels[i] == 3:\n",
        "    print(1, end='')\n",
        "  elif new_labels[i] == 4:\n",
        "    print(6, end='')\n",
        "  elif new_labels[i] == 5:\n",
        "    print(8, end='')\n",
        "  elif new_labels[i] == 6:\n",
        "    print(4, end='')\n",
        "  elif new_labels[i] == 7:\n",
        "    print(5, end='')\n",
        "  elif new_labels[i] == 8:\n",
        "    print(7, end='')\n",
        "  elif new_labels[i] == 9:\n",
        "    print(3, end='')"
      ],
      "execution_count": null,
      "outputs": [
        {
          "output_type": "stream",
          "name": "stdout",
          "text": [
            "[7 7 0 7]\n",
            "5505"
          ]
        }
      ]
    }
  ]
}